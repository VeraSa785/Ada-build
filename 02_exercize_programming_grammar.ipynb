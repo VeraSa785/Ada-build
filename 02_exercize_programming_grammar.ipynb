# Assign values to three variables x1, x2, and x3.
# Print three number equations that show the result of adding 20 to each of the variables.
# For instance, if x1 = 25, the ouput of your code should be 25 + 20 = 45.

# assign values to 3 variables
x1 = "25"
x2 = "20"
x3 = "45"
print(x1, "+", x2, "=", x3)
print(f'{x1} + {x2} = {x3}')
# print the equations

#________________________________________________________________________________________

