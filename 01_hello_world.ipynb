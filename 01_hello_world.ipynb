print("Hello, World")

print("Welcome to Ada!")
print("We're so glad you're here.")

print("Welcome to Ada!\nWe're so glad you're here.")
